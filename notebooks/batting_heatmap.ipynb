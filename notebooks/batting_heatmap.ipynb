{
 "cells": [
  {
   "cell_type": "code",
   "execution_count": 108,
   "metadata": {
    "collapsed": true
   },
   "outputs": [],
   "source": [
    "from lxml import html\n",
    "import requests\n",
    "import pyquery\n",
    "import numpy as np\n",
    "import matplotlib.pyplot as plt\n",
    "import pandas as pd\n",
    "import random\n",
    "\n",
    "%matplotlib inline"
   ]
  },
  {
   "cell_type": "code",
   "execution_count": 133,
   "metadata": {
    "collapsed": true
   },
   "outputs": [],
   "source": [
    "def pitch_placement(heatmap):\n",
    "    pitch = False\n",
    "    while pitch == False:\n",
    "        location = random.randint(0,len(heatmap)-1)\n",
    "        prob = np.random.uniform(np.min(heatmap),np.max(heatmap))\n",
    "        if prob < heatmap[location]: pitch = True  \n",
    "    return location"
   ]
  },
  {
   "cell_type": "code",
   "execution_count": 111,
   "metadata": {
    "collapsed": false
   },
   "outputs": [],
   "source": [
    "#from http://crunchtimebaseball.com/baseball_map.html\n",
    "#updates every day, so probably worth automizing that..\n",
    "path_data = '../data/'\n",
    "file_master_list = 'master_player_list.csv'\n",
    "players_list = pd.read_csv(path_data+file_master_list)"
   ]
  },
  {
   "cell_type": "code",
   "execution_count": 124,
   "metadata": {
    "collapsed": false
   },
   "outputs": [
    {
     "name": "stdout",
     "output_type": "stream",
     "text": [
      "fg_id\n",
      "['A.J. Achter' 'A.J. Burnett' 'A.J. Cole' ..., 'Zeke Spruill'\n",
      " 'Zelous Wheeler' 'Zoilo Almonte']\n"
     ]
    }
   ],
   "source": [
    "print players_list.keys()[17] # fg_id -- Fangraphs ID\n",
    "print players_list.values[:,18] # fg_name -- Fangraphs ID"
   ]
  },
  {
   "cell_type": "code",
   "execution_count": 24,
   "metadata": {
    "collapsed": true
   },
   "outputs": [],
   "source": [
    "#Mike Trout, behind in count\n",
    "url = 'http://www.fangraphs.com/zonegrid.aspx?playerid=10155&position=&ss=2016-04-03&se=2016-10-02&type=0&hand=R&count=behind&blur=0&grid=5&view=bat&pitch=&season=all'"
   ]
  },
  {
   "cell_type": "code",
   "execution_count": 98,
   "metadata": {
    "collapsed": true
   },
   "outputs": [],
   "source": [
    "#Mookie Betts\n",
    "url = 'http://www.fangraphs.com/zonegrid.aspx?playerid=13611&position=&ss=2016-04-05&se=2016-10-02&type=0&hand=R&count=all&blur=0&grid=5&view=bat&pitch=&season=all'"
   ]
  },
  {
   "cell_type": "code",
   "execution_count": 99,
   "metadata": {
    "collapsed": true
   },
   "outputs": [],
   "source": [
    "url_fine = 'http://www.fangraphs.com/zonegrid.aspx?playerid=10155&position=&ss=2016-04-03&se=2016-10-02&type=0&hand=R&count=behind&blur=1&grid=10&view=bat&pitch=&season=all'"
   ]
  },
  {
   "cell_type": "code",
   "execution_count": 100,
   "metadata": {
    "collapsed": true
   },
   "outputs": [],
   "source": [
    "page = requests.get(url)"
   ]
  },
  {
   "cell_type": "code",
   "execution_count": 101,
   "metadata": {
    "collapsed": true
   },
   "outputs": [],
   "source": [
    "tree = html.fromstring(page.content)"
   ]
  },
  {
   "cell_type": "code",
   "execution_count": 125,
   "metadata": {
    "collapsed": true
   },
   "outputs": [],
   "source": [
    "heats = tree.xpath('//div[@class=\"hzstat\"]/text()')\n",
    "Npitch = tree.xpath('//div[@class=\"hzdem\"]/text()')"
   ]
  },
  {
   "cell_type": "code",
   "execution_count": 126,
   "metadata": {
    "collapsed": false
   },
   "outputs": [
    {
     "data": {
      "text/plain": [
       "25"
      ]
     },
     "execution_count": 126,
     "metadata": {},
     "output_type": "execute_result"
    }
   ],
   "source": [
    "len(Npitch)"
   ]
  },
  {
   "cell_type": "code",
   "execution_count": 127,
   "metadata": {
    "collapsed": false
   },
   "outputs": [],
   "source": [
    "heat1d = [float(i.split()[0]) for i in heats]\n",
    "Npitch1d = [float(i.split()[0]) for i in Npitch]"
   ]
  },
  {
   "cell_type": "code",
   "execution_count": 128,
   "metadata": {
    "collapsed": false
   },
   "outputs": [],
   "source": [
    "heatmap = np.reshape(heat1d,[5,5])\n",
    "pitchmap = np.reshape(Npitch1d,[5,5])"
   ]
  },
  {
   "cell_type": "code",
   "execution_count": 130,
   "metadata": {
    "collapsed": false
   },
   "outputs": [
    {
     "data": {
      "text/plain": [
       "<matplotlib.image.AxesImage at 0x119fabf90>"
      ]
     },
     "execution_count": 130,
     "metadata": {},
     "output_type": "execute_result"
    },
    {
     "data": {
      "image/png": "[encoded data removed]",
      "text/plain": [
       "<matplotlib.figure.Figure at 0x11a1e1cd0>"
      ]
     },
     "metadata": {},
     "output_type": "display_data"
    }
   ],
   "source": [
    "plt.imshow(heatmap)"
   ]
  },
  {
   "cell_type": "code",
   "execution_count": 131,
   "metadata": {
    "collapsed": false
   },
   "outputs": [
    {
     "data": {
      "text/plain": [
       "<matplotlib.image.AxesImage at 0x11b086290>"
      ]
     },
     "execution_count": 131,
     "metadata": {},
     "output_type": "execute_result"
    },
    {
     "data": {
      "image/png": "[encoded data removed]",
      "text/plain": [
       "<matplotlib.figure.Figure at 0x10b269910>"
      ]
     },
     "metadata": {},
     "output_type": "display_data"
    }
   ],
   "source": [
    "plt.imshow(pitchmap)"
   ]
  },
  {
   "cell_type": "code",
   "execution_count": 132,
   "metadata": {
    "collapsed": false
   },
   "outputs": [
    {
     "name": "stdout",
     "output_type": "stream",
     "text": [
      "2175.0\n"
     ]
    }
   ],
   "source": [
    "print np.sum(pitchmap)"
   ]
  },
  {
   "cell_type": "code",
   "execution_count": null,
   "metadata": {
    "collapsed": true
   },
   "outputs": [],
   "source": []
  }
 ],
 "metadata": {
  "kernelspec": {
   "display_name": "Python 2",
   "language": "python",
   "name": "python2"
  },
  "language_info": {
   "codemirror_mode": {
    "name": "ipython",
    "version": 2
   },
   "file_extension": ".py",
   "mimetype": "text/x-python",
   "name": "python",
   "nbconvert_exporter": "python",
   "pygments_lexer": "ipython2",
   "version": "2.7.12"
  }
 },
 "nbformat": 4,
 "nbformat_minor": 0
}
