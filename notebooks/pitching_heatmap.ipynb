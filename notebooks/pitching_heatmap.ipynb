{
 "cells": [
  {
   "cell_type": "code",
   "execution_count": 588,
   "metadata": {
    "collapsed": true
   },
   "outputs": [],
   "source": [
    "import pdb\n",
    "from lxml import html\n",
    "import requests\n",
    "import pyquery\n",
    "import numpy as np\n",
    "import matplotlib.pyplot as plt\n",
    "import pandas as pd\n",
    "import random\n",
    "\n",
    "%matplotlib inline"
   ]
  },
  {
   "cell_type": "code",
   "execution_count": 589,
   "metadata": {
    "collapsed": true
   },
   "outputs": [],
   "source": [
    "path_data = '/Users/marco/Code/Python/Modules/gcs/data/'\n",
    "file_master_list = path_data+'master_player_list.csv'"
   ]
  },
  {
   "cell_type": "code",
   "execution_count": 590,
   "metadata": {
    "collapsed": false
   },
   "outputs": [],
   "source": [
    "class player_profile:\n",
    "    def __init__(self, file_master_list):\n",
    "        \n",
    "        players_list = pd.read_csv(file_master_list)\n",
    "        full_names = [str(i).split() for i in players_list.fg_name.values]\n",
    "        first_names = []\n",
    "        last_names = []\n",
    "        for i in range(len(full_names)):\n",
    "            if full_names[i][0] != 'nan':\n",
    "                first_names.append(full_names[i][0])\n",
    "                last_names.append(full_names[i][1])\n",
    "            else: \n",
    "                first_names.append('nan')        \n",
    "                last_names.append('nan')\n",
    "        players_list['first_name'] = first_names\n",
    "        players_list['last_name'] = last_names\n",
    "        \n",
    "        self.master_list = players_list\n",
    "        \n",
    "    def get_fg_id(self, full_name=None,first_name=None,last_name=None):\n",
    "        if (full_name == None):\n",
    "            fangraphs_id = self.master_list.fg_id[(self.master_list.first_name.values == first_name) & \n",
    "                                                  (self.master_list.last_name.values == last_name)].values\n",
    "        else:\n",
    "            fangraphs_id = self.master_list.fg_id[(master_list.mlb_name.values == full_name)]\n",
    "        \n",
    "        return fangraphs_id\n",
    "        \n",
    "    def get_player_info_w_id(self,fangraphs_id, info = None):\n",
    "        if (info == None):\n",
    "            out = self.master_list[self.master_list.fg_id == fangraphs_id]\n",
    "            return out\n",
    "        else:\n",
    "            out = self.master_list[info][self.master_list.fg_id == fangraphs_id]\n",
    "            return out.values\n",
    "        \n",
    "    def get_player_info(self,info=None,full_name=None,first_name=None,last_name=None):\n",
    "        #pdb.set_trace()\n",
    "        if (full_name == None):\n",
    "            tid = self.get_fg_id(first_name=first_name,last_name=last_name)\n",
    "        else:\n",
    "            tid = self.get_fg_id(full_name=full_name)\n",
    "        return self.get_player_info_w_id(tid[0],info=info)[0]"
   ]
  },
  {
   "cell_type": "code",
   "execution_count": 591,
   "metadata": {
    "collapsed": false
   },
   "outputs": [],
   "source": [
    "league = player_profile(file_master_list)"
   ]
  },
  {
   "cell_type": "code",
   "execution_count": 610,
   "metadata": {
    "collapsed": false
   },
   "outputs": [
    {
     "data": {
      "text/plain": [
       "array(['11490'], dtype=object)"
      ]
     },
     "execution_count": 610,
     "metadata": {},
     "output_type": "execute_result"
    }
   ],
   "source": [
    "league.get_fg_id(first_name='Aaron',last_name='Sanchez')"
   ]
  },
  {
   "cell_type": "code",
   "execution_count": 613,
   "metadata": {
    "collapsed": false
   },
   "outputs": [
    {
     "data": {
      "text/plain": [
       "'3B'"
      ]
     },
     "execution_count": 613,
     "metadata": {},
     "output_type": "execute_result"
    }
   ],
   "source": [
    "league.get_player_info(first_name='Josh',last_name='Donaldson',info='mlb_pos')"
   ]
  },
  {
   "cell_type": "code",
   "execution_count": 594,
   "metadata": {
    "collapsed": true
   },
   "outputs": [],
   "source": [
    "def pitch_placement(heatmap):\n",
    "    pitch = False\n",
    "    while pitch == False:\n",
    "        location = random.randint(0,len(heatmap)-1)\n",
    "        prob = np.random.uniform(np.min(heatmap),np.max(heatmap))\n",
    "        if prob < heatmap[location]: pitch = True  \n",
    "    return location"
   ]
  },
  {
   "cell_type": "code",
   "execution_count": 599,
   "metadata": {
    "collapsed": false
   },
   "outputs": [],
   "source": [
    "def get_fg_id(master_list, full_name=None,first_name=None,last_name=None):\n",
    "    if (full_name == None):\n",
    "        fangraphs_id = master_list.fg_id[(master_list.first_name.values == first_name) & \n",
    "                                          (master_list.last_name.values == last_name)].values\n",
    "    else:\n",
    "        fangraphs_id = master_list.fg_id[(master_list.mlb_name.values == full_name)]\n",
    "        \n",
    "    return fangraphs_id"
   ]
  },
  {
   "cell_type": "code",
   "execution_count": 600,
   "metadata": {
    "collapsed": false
   },
   "outputs": [],
   "source": [
    "def get_player_info_w_id(master_list,fangraphs_id, info = None):\n",
    "    if (info == None):\n",
    "        out = master_list[master_list.fg_id == fangraphs_id]\n",
    "        return out\n",
    "    else:\n",
    "        #print info\n",
    "        out = master_list[info][master_list.fg_id == fangraphs_id]\n",
    "        return out.values"
   ]
  },
  {
   "cell_type": "code",
   "execution_count": 601,
   "metadata": {
    "collapsed": false
   },
   "outputs": [
    {
     "name": "stdout",
     "output_type": "stream",
     "text": [
      "['1B']\n"
     ]
    }
   ],
   "source": [
    "#print get_fg_id(full_name='Joey Votto')\n",
    "#votto_id = get_fg_id(players_list,first_name='Joey', last_name='Votto')\n",
    "print get_player_info_w_id(players_list,votto_id[0],'mlb_pos')#.values\n",
    "#print votto_id"
   ]
  },
  {
   "cell_type": "code",
   "execution_count": 602,
   "metadata": {
    "collapsed": false
   },
   "outputs": [
    {
     "name": "stdout",
     "output_type": "stream",
     "text": [
      "Index([u'mlb_id', u'mlb_name', u'mlb_pos', u'mlb_team', u'mlb_team_long',\n",
      "       u'bats', u'throws', u'birth_year', u'bp_id', u'bref_id', u'bref_name',\n",
      "       u'cbs_id', u'cbs_name', u'cbs_pos', u'espn_id', u'espn_name',\n",
      "       u'espn_pos', u'fg_id', u'fg_name', u'lahman_id', u'nfbc_id',\n",
      "       u'nfbc_name', u'nfbc_pos', u'retro_id', u'retro_name', u'debut',\n",
      "       u'yahoo_id', u'yahoo_name', u'yahoo_pos', u'mlb_depth', u'first_name',\n",
      "       u'last_name'],\n",
      "      dtype='object')\n",
      "['4314']\n",
      "['L']\n"
     ]
    }
   ],
   "source": [
    "print players_list.keys()\n",
    "print votto_id\n",
    "print players_list['bats'][players_list.fg_id == votto_id[0]].values"
   ]
  },
  {
   "cell_type": "code",
   "execution_count": 615,
   "metadata": {
    "collapsed": false
   },
   "outputs": [],
   "source": [
    "#from http://crunchtimebaseball.com/baseball_map.html\n",
    "#updates every day, so probably worth automizing that..\n",
    "path_data = '/Users/marco/Code/Python/Modules/gcs/data/'\n",
    "file_master_list = path_data+'master_player_list.csv'\n",
    "players_list = pd.read_csv(file_master_list)\n",
    "full_names = [str(i).split() for i in players_list.fg_name.values]\n",
    "first_names = []\n",
    "last_names = []\n",
    "for i in range(len(full_names)):\n",
    "    if full_names[i][0] != 'nan':\n",
    "        first_names.append(full_names[i][0])\n",
    "        last_names.append(full_names[i][1])\n",
    "    else: \n",
    "        first_names.append('nan')        \n",
    "        last_names.append('nan')\n",
    "#last_names = [players_list.fg_name[i] for i in range(len(players_list))]\n",
    "players_list['first_name'] = first_names\n",
    "players_list['last_name'] = last_names"
   ]
  },
  {
   "cell_type": "code",
   "execution_count": 617,
   "metadata": {
    "collapsed": false
   },
   "outputs": [
    {
     "data": {
      "text/plain": [
       "Index([u'mlb_id', u'mlb_name', u'mlb_pos', u'mlb_team', u'mlb_team_long',\n",
       "       u'bats', u'throws', u'birth_year', u'bp_id', u'bref_id', u'bref_name',\n",
       "       u'cbs_id', u'cbs_name', u'cbs_pos', u'espn_id', u'espn_name',\n",
       "       u'espn_pos', u'fg_id', u'fg_name', u'lahman_id', u'nfbc_id',\n",
       "       u'nfbc_name', u'nfbc_pos', u'retro_id', u'retro_name', u'debut',\n",
       "       u'yahoo_id', u'yahoo_name', u'yahoo_pos', u'mlb_depth', u'first_name',\n",
       "       u'last_name'],\n",
       "      dtype='object')"
      ]
     },
     "execution_count": 617,
     "metadata": {},
     "output_type": "execute_result"
    }
   ],
   "source": [
    "players_list.keys()"
   ]
  },
  {
   "cell_type": "code",
   "execution_count": 6,
   "metadata": {
    "collapsed": false
   },
   "outputs": [
    {
     "name": "stdout",
     "output_type": "stream",
     "text": [
      "fg_id\n",
      "['A.J. Achter' 'A.J. Burnett' 'A.J. Cole' ..., 'Zeke Spruill'\n",
      " 'Zelous Wheeler' 'Zoilo Almonte']\n"
     ]
    }
   ],
   "source": [
    "print players_list.keys()[17] # fg_id -- Fangraphs ID\n",
    "print players_list.values[:,18] # fg_name -- Fangraphs ID"
   ]
  },
  {
   "cell_type": "code",
   "execution_count": 262,
   "metadata": {
    "collapsed": false
   },
   "outputs": [
    {
     "name": "stdout",
     "output_type": "stream",
     "text": [
      "Index([u'mlb_id', u'mlb_name', u'mlb_pos', u'mlb_team', u'mlb_team_long',\n",
      "       u'bats', u'throws', u'birth_year', u'bp_id', u'bref_id', u'bref_name',\n",
      "       u'cbs_id', u'cbs_name', u'cbs_pos', u'espn_id', u'espn_name',\n",
      "       u'espn_pos', u'fg_id', u'fg_name', u'lahman_id', u'nfbc_id',\n",
      "       u'nfbc_name', u'nfbc_pos', u'retro_id', u'retro_name', u'debut',\n",
      "       u'yahoo_id', u'yahoo_name', u'yahoo_pos', u'mlb_depth'],\n",
      "      dtype='object')\n"
     ]
    },
    {
     "data": {
      "text/plain": [
       "'A.J.'"
      ]
     },
     "execution_count": 262,
     "metadata": {},
     "output_type": "execute_result"
    }
   ],
   "source": [
    "print players_list.keys()\n",
    "#print players_list.fg_id[players_list.mlb_pos == 'P']\n",
    "players_list.fg_name[players_list.mlb_pos == 'P'].values[0].split()[0]"
   ]
  },
  {
   "cell_type": "code",
   "execution_count": 563,
   "metadata": {
    "collapsed": false
   },
   "outputs": [
    {
     "name": "stdout",
     "output_type": "stream",
     "text": [
      "['13431']\n"
     ]
    }
   ],
   "source": [
    "fangraphs_id = players_list.fg_id[(players_list.first_name.values == 'A.J.')& (players_list.last_name.values == 'Burnett')].values\n",
    "fangraphs_id = players_list.fg_id[(players_list.first_name.values == 'Marcus')& (players_list.last_name.values == 'Stroman')].values\n",
    "print fangraphs_id"
   ]
  },
  {
   "cell_type": "code",
   "execution_count": 405,
   "metadata": {
    "collapsed": false
   },
   "outputs": [
    {
     "data": {
      "text/plain": [
       "'Alex'"
      ]
     },
     "execution_count": 405,
     "metadata": {},
     "output_type": "execute_result"
    }
   ],
   "source": [
    "players_list.first_names[78]"
   ]
  },
  {
   "cell_type": "code",
   "execution_count": 8,
   "metadata": {
    "collapsed": true
   },
   "outputs": [],
   "source": [
    "#AJ Burnett\n",
    "url = 'http://www.fangraphs.com/zonegrid.aspx?playerid=512&position=P&ss=&se=&type=0&hand=all&count=all&blur=0&grid=5&view=pit&pitch=&season=2015'"
   ]
  },
  {
   "cell_type": "code",
   "execution_count": 630,
   "metadata": {
    "collapsed": false
   },
   "outputs": [],
   "source": [
    "def pitch_heatmap_url(playerid, pitch='', hand='all', count='all', season='2016'):\n",
    "    url0 = 'http://www.fangraphs.com/zonegrid.aspx?'\n",
    "    pid_suf  = 'playerid=' + str(playerid[0])+'&'\n",
    "    pos_suf  = 'position=P&'\n",
    "    ss_suf   = 'ss=&se=&'\n",
    "    type_suf = 'type=0&'\n",
    "    hand_suf = 'hand='+str(hand)+'&'\n",
    "    count_suf= 'count='+str(count)+'&'\n",
    "    blur_suf = 'blur=0&'\n",
    "    grid_suf = 'grid=5&'\n",
    "    view_suf = 'view=pit&'\n",
    "    pitch_suf= 'pitch='+pitch+'&'\n",
    "    season_suf= 'season='+str(season)\n",
    "    \n",
    "    url=url0+pid_suf+pos_suf+ss_suf+type_suf+hand_suf+count_suf+blur_suf+grid_suf+view_suf+pitch_suf+season_suf\n",
    "    \n",
    "    return url"
   ]
  },
  {
   "cell_type": "code",
   "execution_count": 631,
   "metadata": {
    "collapsed": false
   },
   "outputs": [
    {
     "name": "stdout",
     "output_type": "stream",
     "text": [
      "['11490']\n",
      "http://www.fangraphs.com/zonegrid.aspx?playerid=11490&position=P&ss=&se=&type=0&hand=all&count=all&blur=0&grid=5&view=pit&pitch=&season=2015\n"
     ]
    }
   ],
   "source": [
    "print league.get_fg_id(first_name='Aaron',last_name='Sanchez')\n",
    "as_url = pitch_heatmap_url(league.get_fg_id(first_name='Aaron',last_name='Sanchez'),season=2015)\n",
    "print as_url"
   ]
  },
  {
   "cell_type": "code",
   "execution_count": 640,
   "metadata": {
    "collapsed": false
   },
   "outputs": [],
   "source": [
    "page = requests.get(as_url)"
   ]
  },
  {
   "cell_type": "code",
   "execution_count": 641,
   "metadata": {
    "collapsed": true
   },
   "outputs": [],
   "source": [
    "tree = html.fromstring(page.content)"
   ]
  },
  {
   "cell_type": "code",
   "execution_count": 642,
   "metadata": {
    "collapsed": true
   },
   "outputs": [],
   "source": [
    "heats = tree.xpath('//div[@class=\"hzstat\"]/text()')\n",
    "Npitch = tree.xpath('//div[@class=\"hzdem\"]/text()')"
   ]
  },
  {
   "cell_type": "code",
   "execution_count": 643,
   "metadata": {
    "collapsed": false
   },
   "outputs": [
    {
     "data": {
      "text/plain": [
       "25"
      ]
     },
     "execution_count": 643,
     "metadata": {},
     "output_type": "execute_result"
    }
   ],
   "source": [
    "len(Npitch)"
   ]
  },
  {
   "cell_type": "code",
   "execution_count": 644,
   "metadata": {
    "collapsed": false
   },
   "outputs": [],
   "source": [
    "heat1d = [float(i.split()[0]) for i in heats]\n",
    "Npitch1d = [float(i.split()[0]) for i in Npitch]"
   ]
  },
  {
   "cell_type": "code",
   "execution_count": 645,
   "metadata": {
    "collapsed": false
   },
   "outputs": [],
   "source": [
    "heatmap = np.reshape(heat1d,[5,5])\n",
    "pitchmap = np.reshape(Npitch1d,[5,5])"
   ]
  },
  {
   "cell_type": "code",
   "execution_count": 646,
   "metadata": {
    "collapsed": false
   },
   "outputs": [
    {
     "data": {
      "text/plain": [
       "<matplotlib.image.AxesImage at 0x11cbac9d0>"
      ]
     },
     "execution_count": 646,
     "metadata": {},
     "output_type": "execute_result"
    },
    {
     "data": {
      "image/png": "[encoded data removed]",
      "text/plain": [
       "<matplotlib.figure.Figure at 0x11a2f5f10>"
      ]
     },
     "metadata": {},
     "output_type": "display_data"
    }
   ],
   "source": [
    "plt.imshow(heatmap)"
   ]
  },
  {
   "cell_type": "code",
   "execution_count": 608,
   "metadata": {
    "collapsed": false
   },
   "outputs": [],
   "source": [
    "pitch_locations = np.zeros(len(heat1d))\n",
    "nsamp = 1000\n",
    "for i in np.arange(nsamp):\n",
    "    pitch_locations[pitch_placement(heat1d)] += 1    "
   ]
  },
  {
   "cell_type": "code",
   "execution_count": 609,
   "metadata": {
    "collapsed": false
   },
   "outputs": [
    {
     "data": {
      "text/plain": [
       "<matplotlib.image.AxesImage at 0x11d294710>"
      ]
     },
     "execution_count": 609,
     "metadata": {},
     "output_type": "execute_result"
    },
    {
     "data": {
      "image/png": "[encoded data removed]",
      "text/plain": [
       "<matplotlib.figure.Figure at 0x11cfc57d0>"
      ]
     },
     "metadata": {},
     "output_type": "display_data"
    }
   ],
   "source": [
    "plt.imshow(np.reshape(pitch_locations,(5,5)))"
   ]
  },
  {
   "cell_type": "code",
   "execution_count": 81,
   "metadata": {
    "collapsed": true
   },
   "outputs": [],
   "source": [
    "import scipy.stats as st\n",
    "import scipy.interpolate as interpolate\n",
    "\n",
    "def inverse_transform_sampling(data, n_bins=40, n_samples=1000):\n",
    "    hist, bin_edges = np.histogram(data, bins=n_bins, density=True)\n",
    "    cum_values = np.zeros(bin_edges.shape)\n",
    "    cum_values[1:] = np.cumsum(hist*np.diff(bin_edges))\n",
    "    inv_cdf = interpolate.interp1d(cum_values, bin_edges)\n",
    "    r = np.random.rand(n_samples)\n",
    "    return inv_cdf(r)"
   ]
  },
  {
   "cell_type": "code",
   "execution_count": 43,
   "metadata": {
    "collapsed": true
   },
   "outputs": [],
   "source": [
    "def inverse_transform_sampling_pitches(data, n_samples=1000):\n",
    "    cum_values = np.cumsum(data)\n",
    "    inv_cdf = interpolate.interp1d(cum_values, bin_edges)\n",
    "    r = np.random.rand(n_samples)\n",
    "    return inv_cdf(r)"
   ]
  },
  {
   "cell_type": "code",
   "execution_count": 31,
   "metadata": {
    "collapsed": true
   },
   "outputs": [],
   "source": [
    "hist, bin_edges = np.histogram(heat1d, density=True)"
   ]
  },
  {
   "cell_type": "code",
   "execution_count": null,
   "metadata": {
    "collapsed": true
   },
   "outputs": [],
   "source": []
  },
  {
   "cell_type": "code",
   "execution_count": 53,
   "metadata": {
    "collapsed": false
   },
   "outputs": [],
   "source": [
    "tst=inverse_transform_sampling(heat1d)\n",
    "hist, bin_edges = np.histogram(tst, bins=25, density=True)"
   ]
  },
  {
   "cell_type": "code",
   "execution_count": 54,
   "metadata": {
    "collapsed": false
   },
   "outputs": [
    {
     "data": {
      "text/plain": [
       "[<matplotlib.lines.Line2D at 0x119fd46d0>]"
      ]
     },
     "execution_count": 54,
     "metadata": {},
     "output_type": "execute_result"
    },
    {
     "data": {
      "image/png": "[encoded data removed]",
      "text/plain": [
       "<matplotlib.figure.Figure at 0x119fd4c50>"
      ]
     },
     "metadata": {},
     "output_type": "display_data"
    }
   ],
   "source": [
    "plt.plot(heat1d)\n",
    "plt.plot(hist)"
   ]
  },
  {
   "cell_type": "code",
   "execution_count": 57,
   "metadata": {
    "collapsed": false
   },
   "outputs": [
    {
     "data": {
      "text/plain": [
       "array([ 0.28903733,  0.17231072,  0.21121959,  0.39464712,  0.03890887,\n",
       "        0.1111682 ,  0.08059695,  0.08337615,  0.10283059,  0.10283059,\n",
       "        0.06670092,  0.06948013,  0.14173946,  0.10560979,  0.10005138,\n",
       "        0.0555841 ,  0.0555841 ,  0.10560979,  0.02779205,  0.06392172,\n",
       "        0.07503854,  0.06392172,  0.06392172,  0.10005138,  0.09727218])"
      ]
     },
     "execution_count": 57,
     "metadata": {},
     "output_type": "execute_result"
    }
   ],
   "source": [
    "hist"
   ]
  },
  {
   "cell_type": "code",
   "execution_count": null,
   "metadata": {
    "collapsed": true
   },
   "outputs": [],
   "source": []
  }
 ],
 "metadata": {
  "kernelspec": {
   "display_name": "Python 2",
   "language": "python",
   "name": "python2"
  },
  "language_info": {
   "codemirror_mode": {
    "name": "ipython",
    "version": 2
   },
   "file_extension": ".py",
   "mimetype": "text/x-python",
   "name": "python",
   "nbconvert_exporter": "python",
   "pygments_lexer": "ipython2",
   "version": "2.7.12"
  }
 },
 "nbformat": 4,
 "nbformat_minor": 0
}
