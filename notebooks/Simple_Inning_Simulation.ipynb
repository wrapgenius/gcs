{
 "cells": [
  {
   "cell_type": "code",
   "execution_count": 9,
   "metadata": {
    "collapsed": false
   },
   "outputs": [],
   "source": [
    "from lineup import Team\n",
    "import pitch\n",
    "import heatmap\n",
    "from player import Player "
   ]
  },
  {
   "cell_type": "code",
   "execution_count": 11,
   "metadata": {
    "collapsed": true
   },
   "outputs": [],
   "source": [
    "path_data = '/Users/marco/Code/Python/Modules/gcs/data/'\n",
    "file_master_list = path_data+'master_player_list.csv'"
   ]
  },
  {
   "cell_type": "code",
   "execution_count": 2,
   "metadata": {
    "collapsed": false
   },
   "outputs": [],
   "source": [
    "royals_lineup_file = '/Users/marco/Code/Python/Modules/gcs/data/example_lineup_home.cfg'\n",
    "cubs_lineup_file = '/Users/marco/Code/Python/Modules/gcs/data/example_lineup_away.cfg'"
   ]
  },
  {
   "cell_type": "code",
   "execution_count": 3,
   "metadata": {
    "collapsed": false
   },
   "outputs": [
    {
     "data": {
      "text/plain": [
       "'http://www.fangraphs.com/zonegrid.aspx?playerid=13431&position=P&ss=&se=&type=0&hand=all&count=all&blur=0&grid=5&view=pit&pitch=&season=2016'"
      ]
     },
     "execution_count": 3,
     "metadata": {},
     "output_type": "execute_result"
    }
   ],
   "source": [
    "heatmap.pitch_heatmap_url(13431)"
   ]
  },
  {
   "cell_type": "code",
   "execution_count": 4,
   "metadata": {
    "collapsed": false
   },
   "outputs": [],
   "source": [
    "cubs = Team(cubs_lineup_file)\n",
    "royals = Team(royals_lineup_file)"
   ]
  },
  {
   "cell_type": "code",
   "execution_count": 40,
   "metadata": {
    "collapsed": false
   },
   "outputs": [
    {
     "name": "stdout",
     "output_type": "stream",
     "text": [
      "P\n",
      "16208\n",
      "2036\n"
     ]
    }
   ],
   "source": [
    "print cubs.info[cubs.lineup[8]]['position']\n",
    "print cubs.info[cubs.lineup[8]]['fg_id']\n",
    "cubs.info['Joey Votto']['fg_id']\n",
    "league = Player(file_master_list)\n",
    "aaron_fgid = int(league.get_fg_id(first_name='Aaron',last_name='Sanchez')[0])\n",
    "marcus_fgid = int(league.get_fg_id(first_name='Marcus',last_name='Stroman')[0])\n",
    "kershaw_fgid = int(league.get_fg_id(first_name='Clayton',last_name='Kershaw')[0])\n",
    "print kershaw_fgid"
   ]
  },
  {
   "cell_type": "code",
   "execution_count": 41,
   "metadata": {
    "collapsed": false
   },
   "outputs": [
    {
     "data": {
      "text/plain": [
       "477132"
      ]
     },
     "execution_count": 41,
     "metadata": {},
     "output_type": "execute_result"
    }
   ],
   "source": [
    "int(league.get_mlb_id(first_name='Clayton',last_name='Kershaw')[0])"
   ]
  },
  {
   "cell_type": "code",
   "execution_count": 37,
   "metadata": {
    "collapsed": false
   },
   "outputs": [
    {
     "data": {
      "text/plain": [
       "1"
      ]
     },
     "execution_count": 37,
     "metadata": {},
     "output_type": "execute_result"
    }
   ],
   "source": [
    "#heatmap.pitch_heatmap(heatmap.pitch_heatmap_url(aaron_fgid))\n",
    "#pitch.predict_pitch_placement(cubs.info[cubs.lineup[8]]['fg_id'])\n",
    "pitch.predict_pitch_placement(marcus_fgid, pitch='FA')"
   ]
  },
  {
   "cell_type": "code",
   "execution_count": null,
   "metadata": {
    "collapsed": true
   },
   "outputs": [],
   "source": []
  }
 ],
 "metadata": {
  "kernelspec": {
   "display_name": "Python 2",
   "language": "python",
   "name": "python2"
  },
  "language_info": {
   "codemirror_mode": {
    "name": "ipython",
    "version": 2
   },
   "file_extension": ".py",
   "mimetype": "text/x-python",
   "name": "python",
   "nbconvert_exporter": "python",
   "pygments_lexer": "ipython2",
   "version": "2.7.12"
  }
 },
 "nbformat": 4,
 "nbformat_minor": 0
}
