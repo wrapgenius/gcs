{
 "cells": [
  {
   "cell_type": "markdown",
   "metadata": {},
   "source": [
    ">## Question 5. \n",
    ">The CSV “all_batters.csv” (see Google drive link below) contains a data set of seasonal stat lines: plate appearances, walks, strikeouts and home runs for a given player (player_id_hash). We are interested in identifying the 15 most valuable players for next season, assuming all players will have 400 plate appearances next season. Rank those players and quantify your level of confidence.  Your response should include:\n",
    "A description of your methodology, model selection, and validation.\n",
    ">\n",
    ">Your submission should include (please attach in question #7):\n",
    ">Any code used to perform this research\n",
    ">Charts or tables that you would use to help communicate your findings."
   ]
  },
  {
   "cell_type": "markdown",
   "metadata": {},
   "source": [
    "## This question consists of two distinct problems: \n",
    "1. Forecasting - Using previous seasonal stat lines to predict future performances, and  \n",
    "2. Ranking - Determining the appropriate weights of the given statistics, and how to combine them to form a rank.  \n",
    "\n",
    "I deal with each of these stages seperate sections."
   ]
  },
  {
   "cell_type": "code",
   "execution_count": 1,
   "metadata": {},
   "outputs": [],
   "source": [
    "# Import Python Libraries that form backbone of analysis \n",
    "import pdb                      # debugger\n",
    "import numpy as np              # numpy for scientific computing\n",
    "import pandas as pd             # pandas for dataframes\n",
    "import scipy as sp              # scipy for techincal computing\n",
    "import matplotlib.pyplot as plt # matplotlib for plotting\n",
    "   \n",
    "%matplotlib inline\n",
    "\n",
    "plt.style.use('ggplot')"
   ]
  },
  {
   "cell_type": "raw",
   "metadata": {},
   "source": [
    "from scipy.optimize import curve_fit\n",
    "from numpy.linalg import det\n",
    "import seaborn as sns; sns.set()\n",
    "from collections import Counter\n",
    "import sys\n",
    "def printf(format, *args):\n",
    "    sys.stdout.write(format % args)"
   ]
  },
  {
   "cell_type": "markdown",
   "metadata": {},
   "source": [
    "# 1. Forecasting Future Performances"
   ]
  },
  {
   "cell_type": "markdown",
   "metadata": {},
   "source": [
    "### Overview\n",
    "Each player's previous performances are a indicative of their true talent $T$, such that each stat line $D$ is proportional to the likelihood $\\mathcal{L}(D | T)$. Since we don't know $T$, but we do know that performances over time tend to \\emph{regress to the mean}, we can additionally include a Prior $P(D)$, derived from the covariance of the entire ensemble of statistics, to estimate Posterior $P(T | D)$ --- i.e., a range of possible future performances.  Simple MCMC algorithms like $\\texttt{emcee}$ are an efficient way to perform this type of analysis on a desktop or laptop. "
   ]
  },
  {
   "cell_type": "markdown",
   "metadata": {},
   "source": [
    "### Strategy\n",
    "For any analysis, it is always instructive to begin with the simplest model to gain insights (and reality checks) before adding complexity.  With this in mind, and given the time constraint of the assignment, I will demonstrate the zero-th order analysis, and only outline further steps I would have taken. "
   ]
  },
  {
   "cell_type": "markdown",
   "metadata": {},
   "source": [
    "### Steps\n",
    "1. Inspect, clean, and normalize data.  \n",
    "2. Estimate covariance from normalized data.\n",
    "3. Build model to estimate future performance.  "
   ]
  },
  {
   "cell_type": "markdown",
   "metadata": {},
   "source": [
    "Read data into pandas dataframe"
   ]
  },
  {
   "cell_type": "code",
   "execution_count": 2,
   "metadata": {},
   "outputs": [
    {
     "name": "stdout",
     "output_type": "stream",
     "text": [
      " Number of season stats = 2102 \n",
      " Number of unique batters = 984 \n"
     ]
    }
   ],
   "source": [
    "path_data = './'                 # define path to data\n",
    "file_batters = 'all_batting.csv' # name of file\n",
    "batters_data = pd.read_csv(path_data + file_batters) # read in data with pandas\n",
    "print(\"\"\" Number of season stats = {0} \"\"\".format(len(batters_data)))\n",
    "print(\"\"\" Number of unique batters = {0} \"\"\".format(len(np.unique(batters_data['player_id_hash'].values))))"
   ]
  },
  {
   "cell_type": "markdown",
   "metadata": {},
   "source": [
    "Inspect contents of dataframe"
   ]
  },
  {
   "cell_type": "code",
   "execution_count": 3,
   "metadata": {},
   "outputs": [
    {
     "data": {
      "text/html": [
       "<div>\n",
       "<style scoped>\n",
       "    .dataframe tbody tr th:only-of-type {\n",
       "        vertical-align: middle;\n",
       "    }\n",
       "\n",
       "    .dataframe tbody tr th {\n",
       "        vertical-align: top;\n",
       "    }\n",
       "\n",
       "    .dataframe thead th {\n",
       "        text-align: right;\n",
       "    }\n",
       "</style>\n",
       "<table border=\"1\" class=\"dataframe\">\n",
       "  <thead>\n",
       "    <tr style=\"text-align: right;\">\n",
       "      <th></th>\n",
       "      <th>player_id_hash</th>\n",
       "      <th>pa</th>\n",
       "      <th>bb</th>\n",
       "      <th>so</th>\n",
       "      <th>hr</th>\n",
       "    </tr>\n",
       "  </thead>\n",
       "  <tbody>\n",
       "    <tr>\n",
       "      <th>0</th>\n",
       "      <td>65ded5353c5ee48d0b7d48c591b8f430</td>\n",
       "      <td>41</td>\n",
       "      <td>5</td>\n",
       "      <td>13</td>\n",
       "      <td>0</td>\n",
       "    </tr>\n",
       "    <tr>\n",
       "      <th>1</th>\n",
       "      <td>5878a7ab84fb43402106c575658472fa</td>\n",
       "      <td>174</td>\n",
       "      <td>4</td>\n",
       "      <td>40</td>\n",
       "      <td>5</td>\n",
       "    </tr>\n",
       "    <tr>\n",
       "      <th>2</th>\n",
       "      <td>9fc3d7152ba9336a670e36d0ed79bc43</td>\n",
       "      <td>247</td>\n",
       "      <td>21</td>\n",
       "      <td>75</td>\n",
       "      <td>2</td>\n",
       "    </tr>\n",
       "    <tr>\n",
       "      <th>3</th>\n",
       "      <td>7ef605fc8dba5425d6965fbd4c8fbe1f</td>\n",
       "      <td>10</td>\n",
       "      <td>1</td>\n",
       "      <td>4</td>\n",
       "      <td>0</td>\n",
       "    </tr>\n",
       "    <tr>\n",
       "      <th>4</th>\n",
       "      <td>38b3eff8baf56627478ec76a704e9b52</td>\n",
       "      <td>188</td>\n",
       "      <td>14</td>\n",
       "      <td>46</td>\n",
       "      <td>2</td>\n",
       "    </tr>\n",
       "  </tbody>\n",
       "</table>\n",
       "</div>"
      ],
      "text/plain": [
       "                     player_id_hash   pa  bb  so  hr\n",
       "0  65ded5353c5ee48d0b7d48c591b8f430   41   5  13   0\n",
       "1  5878a7ab84fb43402106c575658472fa  174   4  40   5\n",
       "2  9fc3d7152ba9336a670e36d0ed79bc43  247  21  75   2\n",
       "3  7ef605fc8dba5425d6965fbd4c8fbe1f   10   1   4   0\n",
       "4  38b3eff8baf56627478ec76a704e9b52  188  14  46   2"
      ]
     },
     "execution_count": 3,
     "metadata": {},
     "output_type": "execute_result"
    }
   ],
   "source": [
    "batters_data.head() # Inspect contents of pandas dataframe"
   ]
  },
  {
   "cell_type": "markdown",
   "metadata": {},
   "source": [
    "Inspect general data properties"
   ]
  },
  {
   "cell_type": "code",
   "execution_count": 4,
   "metadata": {},
   "outputs": [
    {
     "data": {
      "text/plain": [
       "<matplotlib.legend.Legend at 0x10ed7edd0>"
      ]
     },
     "execution_count": 4,
     "metadata": {},
     "output_type": "execute_result"
    },
    {
     "data": {
      "image/png": "[encoded data removed]",
      "text/plain": [
       "<Figure size 432x288 with 1 Axes>"
      ]
     },
     "metadata": {
      "needs_background": "light"
     },
     "output_type": "display_data"
    }
   ],
   "source": [
    "minpa = 50\n",
    "n_bb, bins_bb, patches_bb = plt.hist(batters_data[batters_data.pa > minpa].bb, alpha = 0.5, color = 'blue',   label = 'walks')\n",
    "n_so, bins_so, patches_so = plt.hist(batters_data[batters_data.pa > minpa].so, alpha = 0.5, color = 'red',   label = 'strikeouts')\n",
    "n_hr, bins_hr, patches_hr = plt.hist(batters_data[batters_data.pa > minpa].hr, alpha = 0.5, color = 'green',   label = 'home runs')\n",
    "plt.xlabel(\"Stat Value\"); plt.ylabel(\"P(Stat)\")\n",
    "plt.legend()"
   ]
  },
  {
   "cell_type": "markdown",
   "metadata": {},
   "source": [
    "Normalize by Plate Appearance (pa)"
   ]
  },
  {
   "cell_type": "code",
   "execution_count": 5,
   "metadata": {},
   "outputs": [],
   "source": [
    "batters_data['norm_pa'] = batters_data.pa/np.mean(batters_data.pa)\n",
    "batters_data['norm_bb'] = batters_data.bb.astype(float)/batters_data.pa.astype(float)\n",
    "batters_data['norm_so'] = batters_data.so.astype(float)/batters_data.pa.astype(float)\n",
    "batters_data['norm_hr'] = batters_data.hr.astype(float)/batters_data.pa.astype(float)\n",
    "batters_data['mean_subtracted_npa'] = batters_data.norm_pa - np.mean(batters_data.norm_pa)\n",
    "batters_data['mean_subtracted_nbb'] = batters_data.norm_bb - np.mean(batters_data.norm_bb)\n",
    "batters_data['mean_subtracted_nso'] = batters_data.norm_so - np.mean(batters_data.norm_so)\n",
    "batters_data['mean_subtracted_nhr'] = batters_data.norm_hr - np.mean(batters_data.norm_hr)"
   ]
  },
  {
   "cell_type": "markdown",
   "metadata": {},
   "source": [
    "Inspect normalized data"
   ]
  },
  {
   "cell_type": "code",
   "execution_count": 6,
   "metadata": {},
   "outputs": [
    {
     "data": {
      "text/plain": [
       "<matplotlib.legend.Legend at 0x11a41dd50>"
      ]
     },
     "execution_count": 6,
     "metadata": {},
     "output_type": "execute_result"
    },
    {
     "data": {
      "image/png": "[encoded data removed]",
      "text/plain": [
       "<Figure size 432x288 with 1 Axes>"
      ]
     },
     "metadata": {
      "needs_background": "light"
     },
     "output_type": "display_data"
    }
   ],
   "source": [
    "minpa = 50\n",
    "n_nbb, bins_nbb, patches_nbb = plt.hist(batters_data[batters_data.pa > minpa].norm_bb, 'scott', alpha = 0.5, color = 'blue',   label = 'walks')\n",
    "n_nso, bins_nso, patches_nso = plt.hist(batters_data[batters_data.pa > minpa].norm_so, 'scott', alpha = 0.5, color = 'red',   label = 'strikeouts')\n",
    "n_nhr, bins_nhr, patches_nhr = plt.hist(batters_data[batters_data.pa > minpa].norm_hr, 'scott', alpha = 0.5, color = 'green',   label = 'home runs')\n",
    "plt.xlabel(\"Normalized Stat Value\"); plt.ylabel(\"P(Stat)\")\n",
    "plt.legend()"
   ]
  },
  {
   "cell_type": "raw",
   "metadata": {},
   "source": [
    "Odd double-peaked behavoir.  May be indicative of pitchers in the list.  \n",
    "Regardless, since the aim of the exercise is to forecast the top 15 players, \n",
    "and we prefer near-Gaussian data for estimating covariance, we down-select at the saddle-point. "
   ]
  },
  {
   "cell_type": "code",
   "execution_count": 7,
   "metadata": {},
   "outputs": [
    {
     "name": "stdout",
     "output_type": "stream",
     "text": [
      "106\n"
     ]
    },
    {
     "data": {
      "image/png": "[encoded data removed]",
      "text/plain": [
       "<Figure size 432x288 with 1 Axes>"
      ]
     },
     "metadata": {
      "needs_background": "light"
     },
     "output_type": "display_data"
    }
   ],
   "source": [
    "cut_nso = .2\n",
    "cut_nbb = .09\n",
    "cut_nhr = .03\n",
    "ind_above_cuts = (batters_data['norm_hr'] > cut_nhr) & (batters_data['norm_bb'] > cut_nbb)  & (batters_data['norm_so'] < cut_nso) \n",
    "\n",
    "plt.hist(batters_data[ind_above_cuts].norm_bb, alpha = 0.7, color = 'blue',   label = 'walks')\n",
    "plt.hist(batters_data[ind_above_cuts].norm_so, alpha = 0.5, color = 'red',     label = 'strikeouts')\n",
    "plt.hist(batters_data[ind_above_cuts].norm_hr, alpha = 0.4, color = 'green',   label = 'home runs')\n",
    "plt.xlabel(\"Downsampled Normalized Stat Value\"); plt.ylabel(\"P(Stat)\")\n",
    "\n",
    "plt.legend()\n",
    "print np.sum(ind_above_cuts)"
   ]
  },
  {
   "cell_type": "markdown",
   "metadata": {},
   "source": [
    "Estimate the Covariance of the stats using the down-sampled data.  "
   ]
  },
  {
   "cell_type": "code",
   "execution_count": 8,
   "metadata": {},
   "outputs": [
    {
     "name": "stdout",
     "output_type": "stream",
     "text": [
      " Number of selected season stats = 99 \n",
      " Number of unique batters remaining = 60 \n"
     ]
    }
   ],
   "source": [
    "minpa = 50\n",
    "forcast_abs = 400 # Number of at-bats we are forecasting  \n",
    "i_select = (batters_data['pa'] > minpa) & (ind_above_cuts == True) # index of selected batters\n",
    "NORM_STATS_400 = forcast_abs * np.array([batters_data.norm_bb, batters_data.norm_hr, batters_data.norm_so])\n",
    "COV_NORM_400 = np.cov(NORM_STATS_400[:,i_select], bias = True)\n",
    "print(\"\"\" Number of selected season stats = {0} \"\"\".format(sum(i_select)))\n",
    "print(\"\"\" Number of unique batters remaining = {0} \"\"\".format(len(np.unique(batters_data['player_id_hash'][i_select].values))))"
   ]
  },
  {
   "cell_type": "code",
   "execution_count": 9,
   "metadata": {},
   "outputs": [
    {
     "name": "stdout",
     "output_type": "stream",
     "text": [
      "\n",
      "    Selected Average Stats of select 60 players:\n",
      "    BB = 58 +/- 11\n",
      "    HR = 24 +/- 7 \n",
      "    SO = 60 +/- 10 \n",
      "    for 400 at bats.\n",
      "      \n"
     ]
    }
   ],
   "source": [
    "league_ave_stats = np.mean(NORM_STATS_400[:,i_select],1)\n",
    "league_err_stats = np.std(NORM_STATS_400[:,i_select],1)\n",
    "print(\"\"\"\n",
    "    Selected Average Stats of select {0} players:\n",
    "    BB = {1:.0f} +/- {2:.0f}\n",
    "    HR = {3:.0f} +/- {4:.0f} \n",
    "    SO = {5:.0f} +/- {6:.0f} \n",
    "    for {7} at bats.\n",
    "      \"\"\".format(len(np.unique(batters_data['player_id_hash'][i_select].values)),league_ave_stats[0], league_err_stats[0],league_ave_stats[1], league_err_stats[1],league_ave_stats[2], league_err_stats[2],400))"
   ]
  },
  {
   "cell_type": "markdown",
   "metadata": {},
   "source": [
    "### Define forecasting function"
   ]
  },
  {
   "cell_type": "code",
   "execution_count": 10,
   "metadata": {},
   "outputs": [],
   "source": [
    "def log_prior(player_true_talent, league_true_talent, cov):\n",
    "    return -0.5 * sum( np.log(2 * np.pi * np.diag(cov))\n",
    "                   + (league_true_talent - player_true_talent) ** 2 / np.diag(cov) )\n",
    "\n",
    "def log_likelihood(player_true_talent, single_season_stats, cov):\n",
    "    return - 0.5 * sum( np.log(2 * np.pi * np.diag(cov)) \n",
    "                   + np.log((single_season_stats - player_true_talent) ** 2  / np.diag(cov)) )\n",
    "\n",
    "def log_posterior(player_true_talent, single_season_stats, league_true_talent, cov):\n",
    "    if any((t < 0) | (t > 150) for t in player_true_talent):\n",
    "        return -np.inf\n",
    "    else:    \n",
    "        return log_likelihood(player_true_talent, single_season_stats, cov)"
   ]
  },
  {
   "cell_type": "markdown",
   "metadata": {},
   "source": [
    "### Define Variables"
   ]
  },
  {
   "cell_type": "code",
   "execution_count": 11,
   "metadata": {},
   "outputs": [],
   "source": [
    "select_batters_single_season_stats, league_true_talent, cov = NORM_STATS_400[:,i_select], league_ave_stats, COV_NORM_400"
   ]
  },
  {
   "cell_type": "markdown",
   "metadata": {},
   "source": [
    "Set up emcee"
   ]
  },
  {
   "cell_type": "code",
   "execution_count": 13,
   "metadata": {},
   "outputs": [],
   "source": [
    "import emcee\n",
    "\n",
    "ndim = 3  # number of parameters in the model\n",
    "nwalkers = 150  # number of MCMC walkers\n",
    "nburn = 100  # \"burn-in\" period to let chains stabilize\n",
    "nsteps = 300  # number of MCMC steps to take\n",
    "batters = np.unique(batters_data['player_id_hash'][i_select].values) # number of unique batters\n",
    "nbatters = len(batters) # number of unique batters\n",
    "posterior= {}"
   ]
  },
  {
   "cell_type": "markdown",
   "metadata": {},
   "source": [
    "Set up simulation to loop over each batter.  \n",
    "When a batter appears more than one season, those are combined in the prediction.  \n",
    "No weights for at-bats are currently included. "
   ]
  },
  {
   "cell_type": "code",
   "execution_count": 14,
   "metadata": {},
   "outputs": [],
   "source": [
    "N = nbatters\n",
    "for isim in range(N):\n",
    "\n",
    "    single_season_stats = select_batters_single_season_stats[:,isim]\n",
    "    # we'll start at random locations \n",
    "    starting_guesses =  league_true_talent  * ( 1 + 0.01 * league_true_talent * np.random.rand(nwalkers, ndim) )\n",
    "\n",
    "    sampler = emcee.EnsembleSampler(nwalkers, ndim, log_posterior, args=[single_season_stats, league_true_talent, cov])\n",
    "    sampler.run_mcmc(starting_guesses, nsteps)\n",
    "\n",
    "    sample = sampler.chain  # shape = (nwalkers, nsteps, ndim)\n",
    "    sample = sampler.chain[:, nburn:, :] # discard burn-in points\n",
    "    \n",
    "    if batters[isim] in posterior:\n",
    "        posterior[batters[isim]] += sample\n",
    "        posterior[batters[isim]]  = posterior[batters[isim]]  / 2.\n",
    "    else:\n",
    "        posterior[batters[isim]] = sample"
   ]
  },
  {
   "cell_type": "raw",
   "metadata": {},
   "source": [
    "Tabulate Results into a DataFrame"
   ]
  },
  {
   "cell_type": "code",
   "execution_count": 15,
   "metadata": {},
   "outputs": [],
   "source": [
    "N = nbatters\n",
    "forecasts_400abs = np.zeros([N,6])\n",
    "for isim in range(N):\n",
    "    forecasts_400abs[isim,0:2] = np.mean(posterior[batters[isim]][:,-1,0]), np.std(posterior[batters[isim]][:,-1,0])\n",
    "    forecasts_400abs[isim,2:4] = np.mean(posterior[batters[isim]][:,-1,1]), np.std(posterior[batters[isim]][:,-1,1])\n",
    "    forecasts_400abs[isim,4:6] = np.mean(posterior[batters[isim]][:,-1,2]), np.std(posterior[batters[isim]][:,-1,2])"
   ]
  },
  {
   "cell_type": "code",
   "execution_count": 16,
   "metadata": {},
   "outputs": [],
   "source": [
    "forecasts_df = pd.DataFrame(forecasts_400abs)\n",
    "#forecasts_df.rows    = batters[:5]\n",
    "forecasts_df.columns = ['bb', 'sig_bb', 'hr', 'sig_hr', 'so', 'sig_so']"
   ]
  },
  {
   "cell_type": "code",
   "execution_count": 17,
   "metadata": {},
   "outputs": [
    {
     "data": {
      "text/html": [
       "<div>\n",
       "<style scoped>\n",
       "    .dataframe tbody tr th:only-of-type {\n",
       "        vertical-align: middle;\n",
       "    }\n",
       "\n",
       "    .dataframe tbody tr th {\n",
       "        vertical-align: top;\n",
       "    }\n",
       "\n",
       "    .dataframe thead th {\n",
       "        text-align: right;\n",
       "    }\n",
       "</style>\n",
       "<table border=\"1\" class=\"dataframe\">\n",
       "  <thead>\n",
       "    <tr style=\"text-align: right;\">\n",
       "      <th></th>\n",
       "      <th>bb</th>\n",
       "      <th>sig_bb</th>\n",
       "      <th>hr</th>\n",
       "      <th>sig_hr</th>\n",
       "      <th>so</th>\n",
       "      <th>sig_so</th>\n",
       "    </tr>\n",
       "  </thead>\n",
       "  <tbody>\n",
       "    <tr>\n",
       "      <th>0</th>\n",
       "      <td>46.851770</td>\n",
       "      <td>18.895034</td>\n",
       "      <td>24.901192</td>\n",
       "      <td>28.155912</td>\n",
       "      <td>50.634407</td>\n",
       "      <td>24.554014</td>\n",
       "    </tr>\n",
       "    <tr>\n",
       "      <th>1</th>\n",
       "      <td>48.239333</td>\n",
       "      <td>21.639393</td>\n",
       "      <td>21.526095</td>\n",
       "      <td>25.182053</td>\n",
       "      <td>60.202486</td>\n",
       "      <td>19.586377</td>\n",
       "    </tr>\n",
       "    <tr>\n",
       "      <th>2</th>\n",
       "      <td>55.665958</td>\n",
       "      <td>20.224244</td>\n",
       "      <td>20.562210</td>\n",
       "      <td>23.518667</td>\n",
       "      <td>59.271129</td>\n",
       "      <td>16.221324</td>\n",
       "    </tr>\n",
       "    <tr>\n",
       "      <th>3</th>\n",
       "      <td>51.109075</td>\n",
       "      <td>21.466437</td>\n",
       "      <td>39.482531</td>\n",
       "      <td>14.836860</td>\n",
       "      <td>74.480454</td>\n",
       "      <td>22.320969</td>\n",
       "    </tr>\n",
       "    <tr>\n",
       "      <th>4</th>\n",
       "      <td>64.566994</td>\n",
       "      <td>16.217110</td>\n",
       "      <td>30.399084</td>\n",
       "      <td>16.624535</td>\n",
       "      <td>75.642316</td>\n",
       "      <td>16.965112</td>\n",
       "    </tr>\n",
       "  </tbody>\n",
       "</table>\n",
       "</div>"
      ],
      "text/plain": [
       "          bb     sig_bb         hr     sig_hr         so     sig_so\n",
       "0  46.851770  18.895034  24.901192  28.155912  50.634407  24.554014\n",
       "1  48.239333  21.639393  21.526095  25.182053  60.202486  19.586377\n",
       "2  55.665958  20.224244  20.562210  23.518667  59.271129  16.221324\n",
       "3  51.109075  21.466437  39.482531  14.836860  74.480454  22.320969\n",
       "4  64.566994  16.217110  30.399084  16.624535  75.642316  16.965112"
      ]
     },
     "execution_count": 17,
     "metadata": {},
     "output_type": "execute_result"
    }
   ],
   "source": [
    "forecasts_df.head()"
   ]
  },
  {
   "cell_type": "markdown",
   "metadata": {},
   "source": [
    "Plot Posteriors for randomly selected batter. "
   ]
  },
  {
   "cell_type": "code",
   "execution_count": 18,
   "metadata": {},
   "outputs": [
    {
     "name": "stderr",
     "output_type": "stream",
     "text": [
      "/Users/marcoviero/anaconda/lib/python2.7/site-packages/matplotlib/axes/_axes.py:6571: UserWarning: The 'normed' kwarg is deprecated, and has been replaced by the 'density' kwarg.\n",
      "  warnings.warn(\"The 'normed' kwarg is deprecated, and has been \"\n"
     ]
    },
    {
     "data": {
      "text/plain": [
       "Text(0,0.5,'P(Stat)')"
      ]
     },
     "execution_count": 18,
     "metadata": {},
     "output_type": "execute_result"
    },
    {
     "data": {
      "image/png": "[encoded data removed]",
      "text/plain": [
       "<Figure size 432x288 with 1 Axes>"
      ]
     },
     "metadata": {
      "needs_background": "light"
     },
     "output_type": "display_data"
    }
   ],
   "source": [
    "# plot a histogram of the sample\n",
    "import random\n",
    "\n",
    "random_batter = random.choice(batters)\n",
    "sample_plot = posterior[random_batter]\n",
    "\n",
    "hstyle = 'doane'\n",
    "hstyle = 'scott'\n",
    "n_bb, bins_bb, patches_bb = plt.hist(sample_plot[:,:,0].ravel(), hstyle, alpha=0.6, color = 'red', label = 'walks', normed = True)\n",
    "n_hr, bins_hr, patches_hr = plt.hist(sample_plot[:,:,1].ravel(), hstyle, alpha=0.6, color = 'blue', label = 'home runs', normed = True)\n",
    "n_so, bins_so, patches_so = plt.hist(sample_plot[:,:,2].ravel(), hstyle, alpha=0.6, color = 'green', label = 'strikeouts', normed = True)\n",
    "\n",
    "plt.legend()\n",
    "\n",
    "#plot a best-fit Gaussian\n",
    "from scipy import stats\n",
    "bb_fit = np.linspace(0, 100)\n",
    "pdf_bb = stats.norm(np.mean(sample_plot[:,-1,0]), np.std(sample_plot[:,-1,0])).pdf(bb_fit)\n",
    "plt.plot(bb_fit, pdf_bb, '-', color = 'red')\n",
    "\n",
    "hr_fit = np.linspace(0, 100)\n",
    "pdf_hr = stats.norm(np.mean(sample_plot[:,-1,1]), np.std(sample_plot[:,-1,1])).pdf(hr_fit)\n",
    "plt.plot(hr_fit, pdf_hr, '-k', color = 'blue')\n",
    "\n",
    "so_fit = np.linspace(0, 100)\n",
    "pdf_so = stats.norm(np.mean(sample_plot[:,-1,2]), np.std(sample_plot[:,-1,2])).pdf(so_fit)\n",
    "plt.plot(so_fit, pdf_so, '-k', color = 'green')\n",
    "#plt.xlabel(\"BB\"); plt.ylabel(\"P(BB)\")\n",
    "plt.xlabel(\"400 atbat Forecasted Stat Values for {0} steps\".format(nsteps)); plt.ylabel(\"P(Stat)\")"
   ]
  },
  {
   "cell_type": "markdown",
   "metadata": {},
   "source": [
    "# 2. Ranking Predicted Peformances"
   ]
  },
  {
   "cell_type": "markdown",
   "metadata": {},
   "source": [
    "### Overview\n",
    "The relative weighting is complicated by the fact that the parameters are correlated (i.e., more home runs tends to also mean more strikeouts).\n",
    "\n",
    "Some strategies to overcome this could be to use the inverse of the covariance to remove the correlations, also known as \\emph{whitening}.\n",
    "A more involved approach would be a full simulation, however, too much information is missing for that to be worthwhile.  \n",
    "\n",
    "The values of the weights could also be treated as nuisance parameters be marginalized over.  That could be done with a Bayesian treatment, or easily brute-forced.  \n",
    "Fortunately, the question of relative \\emph{linear} weights has been investigated in depth, so we can draw upon that research here.  "
   ]
  },
  {
   "cell_type": "markdown",
   "metadata": {},
   "source": [
    "### Strategy\n",
    "1. Use simple linear weights and forecasts_df from previous step to rank players.  \n",
    "2. Set up marginalization simulation to see how much potential variance there is.  "
   ]
  },
  {
   "cell_type": "markdown",
   "metadata": {},
   "source": [
    "### Steps\n",
    "1. Leverage literature to estimate linear weights.  \n",
    "2. Build model to tabulate scores.  \n",
    "3. Rank Players and Report"
   ]
  },
  {
   "cell_type": "code",
   "execution_count": 19,
   "metadata": {},
   "outputs": [],
   "source": [
    "def weighted_score(forecasts, weights, top_X = 15):\n",
    "    wscores = np.zeros(len(forecasts))\n",
    "    for isc in range(len(wscores)):\n",
    "        wscores[isc] = (weights[0] * forecasts[isc,0] + weights[1] * forecasts[isc,1] + weights[2] * forecasts[isc,2]) / sum(weights)\n",
    "    \n",
    "    rank = np.argsort(wscores)[::-1]\n",
    "\n",
    "    return rank, wscores"
   ]
  },
  {
   "cell_type": "markdown",
   "metadata": {},
   "source": [
    "### We use linear weights taken from the literature, in this case http://spiff.rit.edu/richmond/baseball/lwts/lwts_intro.html, though they are all roughly similar"
   ]
  },
  {
   "cell_type": "code",
   "execution_count": 24,
   "metadata": {},
   "outputs": [],
   "source": [
    "forecasted_means = np.array(forecasts_df[['bb','hr','so']])\n",
    "forecasted_error = np.array(forecasts_df[['sig_bb','sig_hr','sig_so']])\n",
    "weights = np.array([0.32, 1.40, -0.29]) # Weights from http://spiff.rit.edu/richmond/baseball/lwts/lwts_intro.html\n",
    "rnk, scr = weighted_score(forecasted_means, weights)"
   ]
  },
  {
   "cell_type": "markdown",
   "metadata": {},
   "source": [
    "Final Rankings tabulated in pandas dataframe.  "
   ]
  },
  {
   "cell_type": "code",
   "execution_count": 26,
   "metadata": {},
   "outputs": [
    {
     "data": {
      "text/html": [
       "<div>\n",
       "<style scoped>\n",
       "    .dataframe tbody tr th:only-of-type {\n",
       "        vertical-align: middle;\n",
       "    }\n",
       "\n",
       "    .dataframe tbody tr th {\n",
       "        vertical-align: top;\n",
       "    }\n",
       "\n",
       "    .dataframe thead th {\n",
       "        text-align: right;\n",
       "    }\n",
       "</style>\n",
       "<table border=\"1\" class=\"dataframe\">\n",
       "  <thead>\n",
       "    <tr style=\"text-align: right;\">\n",
       "      <th></th>\n",
       "      <th>bb</th>\n",
       "      <th>sig_bb</th>\n",
       "      <th>hr</th>\n",
       "      <th>sig_hr</th>\n",
       "      <th>so</th>\n",
       "      <th>sig_so</th>\n",
       "      <th>score</th>\n",
       "      <th>batter_id</th>\n",
       "    </tr>\n",
       "  </thead>\n",
       "  <tbody>\n",
       "    <tr>\n",
       "      <th>0</th>\n",
       "      <td>57.501830</td>\n",
       "      <td>16.109066</td>\n",
       "      <td>46.261257</td>\n",
       "      <td>18.180788</td>\n",
       "      <td>66.261942</td>\n",
       "      <td>16.123413</td>\n",
       "      <td>44.720547</td>\n",
       "      <td>d1ee59e20ad01cedc15f5118a7626099</td>\n",
       "    </tr>\n",
       "    <tr>\n",
       "      <th>1</th>\n",
       "      <td>63.213058</td>\n",
       "      <td>17.119654</td>\n",
       "      <td>42.362389</td>\n",
       "      <td>16.562724</td>\n",
       "      <td>57.477838</td>\n",
       "      <td>17.878066</td>\n",
       "      <td>43.962903</td>\n",
       "      <td>970af30e481057c48f87e101b61e6994</td>\n",
       "    </tr>\n",
       "    <tr>\n",
       "      <th>2</th>\n",
       "      <td>67.609810</td>\n",
       "      <td>17.738130</td>\n",
       "      <td>41.500506</td>\n",
       "      <td>17.315589</td>\n",
       "      <td>66.035184</td>\n",
       "      <td>19.587512</td>\n",
       "      <td>42.367584</td>\n",
       "      <td>99adff456950dd9629a5260c4de21858</td>\n",
       "    </tr>\n",
       "    <tr>\n",
       "      <th>3</th>\n",
       "      <td>54.304749</td>\n",
       "      <td>20.252898</td>\n",
       "      <td>41.181210</td>\n",
       "      <td>17.712392</td>\n",
       "      <td>66.083884</td>\n",
       "      <td>18.884317</td>\n",
       "      <td>39.067753</td>\n",
       "      <td>41a60377ba920919939d83326ebee5a1</td>\n",
       "    </tr>\n",
       "    <tr>\n",
       "      <th>4</th>\n",
       "      <td>74.961497</td>\n",
       "      <td>15.549486</td>\n",
       "      <td>35.130924</td>\n",
       "      <td>20.713975</td>\n",
       "      <td>64.017197</td>\n",
       "      <td>15.650806</td>\n",
       "      <td>38.186003</td>\n",
       "      <td>42d6c7d61481d1c21bd1635f59edae05</td>\n",
       "    </tr>\n",
       "    <tr>\n",
       "      <th>5</th>\n",
       "      <td>69.935859</td>\n",
       "      <td>14.781030</td>\n",
       "      <td>35.509178</td>\n",
       "      <td>17.952413</td>\n",
       "      <td>62.305384</td>\n",
       "      <td>17.796518</td>\n",
       "      <td>37.778855</td>\n",
       "      <td>a760880003e7ddedfef56acb3b09697f</td>\n",
       "    </tr>\n",
       "    <tr>\n",
       "      <th>6</th>\n",
       "      <td>56.942270</td>\n",
       "      <td>14.485805</td>\n",
       "      <td>35.567596</td>\n",
       "      <td>15.644030</td>\n",
       "      <td>52.792199</td>\n",
       "      <td>25.828931</td>\n",
       "      <td>36.857639</td>\n",
       "      <td>9fc3d7152ba9336a670e36d0ed79bc43</td>\n",
       "    </tr>\n",
       "    <tr>\n",
       "      <th>7</th>\n",
       "      <td>72.751101</td>\n",
       "      <td>16.186189</td>\n",
       "      <td>31.557335</td>\n",
       "      <td>15.816158</td>\n",
       "      <td>54.205503</td>\n",
       "      <td>22.659056</td>\n",
       "      <td>36.182535</td>\n",
       "      <td>77f959f119f4fb2321e9ce801e2f5163</td>\n",
       "    </tr>\n",
       "    <tr>\n",
       "      <th>8</th>\n",
       "      <td>76.886234</td>\n",
       "      <td>18.595492</td>\n",
       "      <td>29.159208</td>\n",
       "      <td>19.109398</td>\n",
       "      <td>47.360299</td>\n",
       "      <td>17.853167</td>\n",
       "      <td>36.148252</td>\n",
       "      <td>81c8727c62e800be708dbf37c4695dff</td>\n",
       "    </tr>\n",
       "    <tr>\n",
       "      <th>9</th>\n",
       "      <td>68.342716</td>\n",
       "      <td>15.817132</td>\n",
       "      <td>31.305300</td>\n",
       "      <td>13.379092</td>\n",
       "      <td>52.853431</td>\n",
       "      <td>16.853756</td>\n",
       "      <td>35.223493</td>\n",
       "      <td>489d0396e6826eb0c1e611d82ca8b215</td>\n",
       "    </tr>\n",
       "    <tr>\n",
       "      <th>10</th>\n",
       "      <td>95.843543</td>\n",
       "      <td>17.812473</td>\n",
       "      <td>22.914429</td>\n",
       "      <td>22.541306</td>\n",
       "      <td>43.599258</td>\n",
       "      <td>12.946315</td>\n",
       "      <td>35.039405</td>\n",
       "      <td>495dabfd0ca768a3c3abd672079f48b6</td>\n",
       "    </tr>\n",
       "    <tr>\n",
       "      <th>11</th>\n",
       "      <td>51.109075</td>\n",
       "      <td>21.466437</td>\n",
       "      <td>39.482531</td>\n",
       "      <td>14.836860</td>\n",
       "      <td>74.480454</td>\n",
       "      <td>22.320969</td>\n",
       "      <td>34.986794</td>\n",
       "      <td>0c8ce55163055c4da50a81e0a273468c</td>\n",
       "    </tr>\n",
       "    <tr>\n",
       "      <th>12</th>\n",
       "      <td>60.521067</td>\n",
       "      <td>16.809588</td>\n",
       "      <td>29.106176</td>\n",
       "      <td>23.770765</td>\n",
       "      <td>39.707008</td>\n",
       "      <td>19.689788</td>\n",
       "      <td>33.986262</td>\n",
       "      <td>9597353e41e6957b5e7aa79214fcb256</td>\n",
       "    </tr>\n",
       "    <tr>\n",
       "      <th>13</th>\n",
       "      <td>52.281816</td>\n",
       "      <td>23.238215</td>\n",
       "      <td>35.235967</td>\n",
       "      <td>19.310671</td>\n",
       "      <td>63.753150</td>\n",
       "      <td>21.387118</td>\n",
       "      <td>33.267218</td>\n",
       "      <td>42a3964579017f3cb42b26605b9ae8ef</td>\n",
       "    </tr>\n",
       "    <tr>\n",
       "      <th>14</th>\n",
       "      <td>57.914927</td>\n",
       "      <td>15.675618</td>\n",
       "      <td>32.419974</td>\n",
       "      <td>15.479975</td>\n",
       "      <td>57.604839</td>\n",
       "      <td>22.826521</td>\n",
       "      <td>33.017718</td>\n",
       "      <td>806beafe154032a5b818e97b4420ad98</td>\n",
       "    </tr>\n",
       "  </tbody>\n",
       "</table>\n",
       "</div>"
      ],
      "text/plain": [
       "           bb     sig_bb         hr     sig_hr         so     sig_so  \\\n",
       "0   57.501830  16.109066  46.261257  18.180788  66.261942  16.123413   \n",
       "1   63.213058  17.119654  42.362389  16.562724  57.477838  17.878066   \n",
       "2   67.609810  17.738130  41.500506  17.315589  66.035184  19.587512   \n",
       "3   54.304749  20.252898  41.181210  17.712392  66.083884  18.884317   \n",
       "4   74.961497  15.549486  35.130924  20.713975  64.017197  15.650806   \n",
       "5   69.935859  14.781030  35.509178  17.952413  62.305384  17.796518   \n",
       "6   56.942270  14.485805  35.567596  15.644030  52.792199  25.828931   \n",
       "7   72.751101  16.186189  31.557335  15.816158  54.205503  22.659056   \n",
       "8   76.886234  18.595492  29.159208  19.109398  47.360299  17.853167   \n",
       "9   68.342716  15.817132  31.305300  13.379092  52.853431  16.853756   \n",
       "10  95.843543  17.812473  22.914429  22.541306  43.599258  12.946315   \n",
       "11  51.109075  21.466437  39.482531  14.836860  74.480454  22.320969   \n",
       "12  60.521067  16.809588  29.106176  23.770765  39.707008  19.689788   \n",
       "13  52.281816  23.238215  35.235967  19.310671  63.753150  21.387118   \n",
       "14  57.914927  15.675618  32.419974  15.479975  57.604839  22.826521   \n",
       "\n",
       "        score                         batter_id  \n",
       "0   44.720547  d1ee59e20ad01cedc15f5118a7626099  \n",
       "1   43.962903  970af30e481057c48f87e101b61e6994  \n",
       "2   42.367584  99adff456950dd9629a5260c4de21858  \n",
       "3   39.067753  41a60377ba920919939d83326ebee5a1  \n",
       "4   38.186003  42d6c7d61481d1c21bd1635f59edae05  \n",
       "5   37.778855  a760880003e7ddedfef56acb3b09697f  \n",
       "6   36.857639  9fc3d7152ba9336a670e36d0ed79bc43  \n",
       "7   36.182535  77f959f119f4fb2321e9ce801e2f5163  \n",
       "8   36.148252  81c8727c62e800be708dbf37c4695dff  \n",
       "9   35.223493  489d0396e6826eb0c1e611d82ca8b215  \n",
       "10  35.039405  495dabfd0ca768a3c3abd672079f48b6  \n",
       "11  34.986794  0c8ce55163055c4da50a81e0a273468c  \n",
       "12  33.986262  9597353e41e6957b5e7aa79214fcb256  \n",
       "13  33.267218  42a3964579017f3cb42b26605b9ae8ef  \n",
       "14  33.017718  806beafe154032a5b818e97b4420ad98  "
      ]
     },
     "execution_count": 26,
     "metadata": {},
     "output_type": "execute_result"
    }
   ],
   "source": [
    "final_ranking = pd.DataFrame(forecasts_df.values[rnk[:15]])\n",
    "final_ranking.columns = ['bb', 'sig_bb', 'hr', 'sig_hr', 'so', 'sig_so']\n",
    "final_ranking['score'] = scr[rnk[:15]]\n",
    "final_ranking['batter_id'] = batters[rnk[:15]]\n",
    "final_ranking"
   ]
  },
  {
   "cell_type": "markdown",
   "metadata": {},
   "source": [
    "Brute force marginalization in this case would be to explore the parameter space with nested loops and compile scores.  \n",
    "If I have time I will do that.  "
   ]
  },
  {
   "cell_type": "code",
   "execution_count": null,
   "metadata": {},
   "outputs": [],
   "source": []
  }
 ],
 "metadata": {
  "kernelspec": {
   "display_name": "Python 2",
   "language": "python",
   "name": "python2"
  },
  "language_info": {
   "codemirror_mode": {
    "name": "ipython",
    "version": 2
   },
   "file_extension": ".py",
   "mimetype": "text/x-python",
   "name": "python",
   "nbconvert_exporter": "python",
   "pygments_lexer": "ipython2",
   "version": "2.7.15"
  }
 },
 "nbformat": 4,
 "nbformat_minor": 2
}
