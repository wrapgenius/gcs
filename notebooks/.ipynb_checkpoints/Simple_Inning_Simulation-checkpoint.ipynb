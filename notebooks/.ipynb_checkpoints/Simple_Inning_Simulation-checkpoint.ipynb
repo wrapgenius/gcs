{
 "cells": [
  {
   "cell_type": "code",
   "execution_count": 25,
   "metadata": {
    "collapsed": false
   },
   "outputs": [],
   "source": [
    "import pdb\n",
    "import numpy as np\n",
    "from lineup import Team\n",
    "from pitch import predict_pitch_type\n",
    "from pitch import predict_pitch_velocity\n",
    "from pitch import predict_pitch_placement\n",
    "from heatmap import heatmap_url\n",
    "from heatmap import predict_general_heatmap\n",
    "from player import Player \n",
    "#from bat import at_bat_state"
   ]
  },
  {
   "cell_type": "code",
   "execution_count": 2,
   "metadata": {
    "collapsed": true
   },
   "outputs": [],
   "source": [
    "path_data = '/Users/marco/Code/Python/Modules/gcs/data/'\n",
    "file_master_list = path_data+'master_player_list.csv'"
   ]
  },
  {
   "cell_type": "code",
   "execution_count": 3,
   "metadata": {
    "collapsed": true
   },
   "outputs": [],
   "source": [
    "league = Player(file_master_list)"
   ]
  },
  {
   "cell_type": "code",
   "execution_count": 4,
   "metadata": {
    "collapsed": false
   },
   "outputs": [],
   "source": [
    "royals_lineup_file = '/Users/marco/Code/Python/Modules/gcs/data/example_lineup_home.cfg'\n",
    "cubs_lineup_file = '/Users/marco/Code/Python/Modules/gcs/data/example_lineup_away.cfg'"
   ]
  },
  {
   "cell_type": "code",
   "execution_count": 5,
   "metadata": {
    "collapsed": false
   },
   "outputs": [],
   "source": [
    "cubs = Team(cubs_lineup_file)\n",
    "royals = Team(royals_lineup_file)"
   ]
  },
  {
   "cell_type": "markdown",
   "metadata": {},
   "source": [
    "# American League Game"
   ]
  },
  {
   "cell_type": "markdown",
   "metadata": {},
   "source": [
    "## Top Inning"
   ]
  },
  {
   "cell_type": "code",
   "execution_count": 6,
   "metadata": {
    "collapsed": false
   },
   "outputs": [],
   "source": [
    "#pitcher = royals.lineup[8]\n",
    "pitcher = 'Ian Kennedy'\n",
    "pitcher_id = int(league.get_fg_id(first_name=pitcher.split()[0],last_name=pitcher.split()[1])[0]) # royals.info[pitcher]['fg_id']"
   ]
  },
  {
   "cell_type": "code",
   "execution_count": 7,
   "metadata": {
    "collapsed": false
   },
   "outputs": [
    {
     "name": "stdout",
     "output_type": "stream",
     "text": [
      "Now Pitching Ian Kennedy:\n"
     ]
    }
   ],
   "source": [
    "print('Now Pitching %s:') % (pitcher)"
   ]
  },
  {
   "cell_type": "code",
   "execution_count": null,
   "metadata": {
    "collapsed": false
   },
   "outputs": [
    {
     "name": "stdout",
     "output_type": "stream",
     "text": [
      "Now Batting Zack Cozart:\n",
      "94mph FA\n",
      "swing!\n",
      "contact!\n",
      "out\n",
      "0 balls and 0 strikes\n",
      "1\n",
      "94mph FA\n",
      "swing!\n",
      "contact!\n",
      "out\n",
      "0 balls and 0 strikes\n",
      "2\n",
      "89mph FA\n",
      "swing!\n",
      "contact!\n",
      "out\n",
      "0 balls and 0 strikes\n",
      "3\n",
      "> <ipython-input-37-f8c2b7808551>(2)<module>()\n",
      "-> for batter in cubs.lineup:\n"
     ]
    }
   ],
   "source": [
    "outs = 0\n",
    "for batter in cubs.lineup:\n",
    "    batter_id = cubs.info[batter]['fg_id']\n",
    "    print('Now Batting %s:') % (batter)\n",
    "    new_batter = False\n",
    "    count = np.array([0,0]) # balls and strikes\n",
    "    pitch = 0\n",
    "    while new_batter == False:\n",
    "        if outs >= 3: break\n",
    "            \n",
    "        # The Pitch\n",
    "        pt = predict_pitch_type(pitcher_id)\n",
    "        #print pt\n",
    "        pv = predict_pitch_velocity(pitcher_id, pitch_type = pt)\n",
    "        #print pv\n",
    "        pp = predict_pitch_placement(pitcher_id, pitch_type = pt)\n",
    "        #print pp\n",
    "\n",
    "        print('%dmph %s') % (pv, pt)\n",
    "\n",
    "        # The Bat\n",
    "        predict_swing = predict_general_heatmap(batter_id, pp, 'swing')\n",
    "        if predict_swing == True: \n",
    "            print 'swing!' \n",
    "            predict_contact = predict_general_heatmap(batter_id, pp, 'contact' )\n",
    "            #print pc\n",
    "            if predict_contact == True: \n",
    "                print 'contact!' \n",
    "                print 'out'\n",
    "                outs += 1 \n",
    "                new_batter == True\n",
    "                pdb.set_trace()\n",
    "                #pass\n",
    "            else:\n",
    "                print 'strike!'\n",
    "                if count[1] < 2:\n",
    "                    count[1] += 1\n",
    "                else:\n",
    "                    print 'strike 3!'\n",
    "                    outs += 1 \n",
    "                    new_batter == True\n",
    "                    \n",
    "        else: # if didn't swing, was it a called strike or a ball?\n",
    "            predict_called_strike = predict_general_heatmap(batter_id, pp, 'cStrike')\n",
    "            if predict_called_strike == True:\n",
    "                print 'strike!'\n",
    "                if count[1] < 2:\n",
    "                    count[1] += 1\n",
    "                else:\n",
    "                    print 'strike 3!'\n",
    "                    outs += 1 \n",
    "                    new_batter == True\n",
    "            else:\n",
    "                print 'ball!'\n",
    "                if count[0] < 4:\n",
    "                    count[0] += 1\n",
    "                else:\n",
    "                    print 'ball 4!'\n",
    "                    new_batter == True\n",
    "                        #pass\n",
    "        \n",
    "        if new_batter == False:\n",
    "            print('%i balls and %i strikes') % (count[0],count[1])\n",
    "        else:\n",
    "            print('New batter')\n",
    "            print ''\n",
    "        pitch += 1\n",
    "        print pitch\n",
    "    pdb.set_trace()\n",
    "    \n",
    "        \n"
   ]
  },
  {
   "cell_type": "code",
   "execution_count": null,
   "metadata": {
    "collapsed": false
   },
   "outputs": [],
   "source": [
    "pitcher_id"
   ]
  },
  {
   "cell_type": "code",
   "execution_count": null,
   "metadata": {
    "collapsed": false
   },
   "outputs": [],
   "source": [
    "print cubs.info[cubs.lineup[8]]['position']\n",
    "print cubs.info[cubs.lineup[8]]['fg_id']\n",
    "cubs.info['Joey Votto']['fg_id']\n",
    "league = Player(file_master_list)\n",
    "aaron_fgid = int(league.get_fg_id(first_name='Aaron',last_name='Sanchez')[0])\n",
    "marcus_fgid = int(league.get_fg_id(first_name='Marcus',last_name='Stroman')[0])\n",
    "kershaw_fgid = int(league.get_fg_id(first_name='Clayton',last_name='Kershaw')[0])\n",
    "print kershaw_fgid"
   ]
  },
  {
   "cell_type": "code",
   "execution_count": null,
   "metadata": {
    "collapsed": false
   },
   "outputs": [],
   "source": [
    "int(league.get_mlb_id(first_name='Clayton',last_name='Kershaw')[0])"
   ]
  },
  {
   "cell_type": "code",
   "execution_count": null,
   "metadata": {
    "collapsed": false
   },
   "outputs": [],
   "source": [
    "#heatmap.pitch_heatmap(heatmap.pitch_heatmap_url(aaron_fgid))\n",
    "#pitch.predict_pitch_placement(cubs.info[cubs.lineup[8]]['fg_id'])\n",
    "pitch.predict_pitch_placement(marcus_fgid, pitch='FA')"
   ]
  },
  {
   "cell_type": "code",
   "execution_count": null,
   "metadata": {
    "collapsed": true
   },
   "outputs": [],
   "source": []
  }
 ],
 "metadata": {
  "kernelspec": {
   "display_name": "Python 2",
   "language": "python",
   "name": "python2"
  },
  "language_info": {
   "codemirror_mode": {
    "name": "ipython",
    "version": 2
   },
   "file_extension": ".py",
   "mimetype": "text/x-python",
   "name": "python",
   "nbconvert_exporter": "python",
   "pygments_lexer": "ipython2",
   "version": "2.7.12"
  }
 },
 "nbformat": 4,
 "nbformat_minor": 0
}
